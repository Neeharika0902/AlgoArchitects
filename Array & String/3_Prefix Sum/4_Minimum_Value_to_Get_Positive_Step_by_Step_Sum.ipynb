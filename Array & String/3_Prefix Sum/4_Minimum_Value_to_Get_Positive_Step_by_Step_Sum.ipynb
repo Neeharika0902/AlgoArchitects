{
 "cells": [
  {
   "cell_type": "markdown",
   "metadata": {},
   "source": [
    "# Minimum Value to Get Positive Step by Step Sum #\n",
    "\n",
    "Given an array of integers nums, you start with an initial positive value startValue.\n",
    "\n",
    "In each iteration, you calculate the step by step sum of startValue plus elements in nums (from left to right).\n",
    "\n",
    "Return the minimum positive value of startValue such that the step by step sum is never less than 1.\n",
    "\n",
    "\n",
    " \n",
    "\n",
    "Example 1: --------\n",
    "\n",
    "Input: nums = [-3,2,-3,4,2]\n",
    "\n",
    "Output: 5\n",
    "\n",
    "Explanation: If you choose startValue = 4, in the third iteration your step by step sum is less than 1.\n",
    "step by step sum\n",
    "\n",
    "startValue = 4 | startValue = 5 | nums\n",
    "  (4 -3 ) = 1  | (5 -3 ) = 2    |  -3\n",
    "  (1 +2 ) = 3  | (2 +2 ) = 4    |   2\n",
    "  (3 -3 ) = 0  | (4 -3 ) = 1    |  -3\n",
    "  (0 +4 ) = 4  | (1 +4 ) = 5    |   4\n",
    "  (4 +2 ) = 6  | (5 +2 ) = 7    |   2\n",
    "\n",
    "\n",
    "Example 2: ---------\n",
    "\n",
    "Input: nums = [1,2]\n",
    "\n",
    "Output: 1\n",
    "\n",
    "Explanation: Minimum start value should be positive. \n",
    "\n",
    "\n",
    "Example 3: ----------\n",
    "\n",
    "Input: nums = [1,-2,-3]\n",
    "\n",
    "Output: 5"
   ]
  },
  {
   "cell_type": "code",
   "execution_count": null,
   "metadata": {},
   "outputs": [],
   "source": []
  }
 ],
 "metadata": {
  "language_info": {
   "name": "python"
  }
 },
 "nbformat": 4,
 "nbformat_minor": 2
}
