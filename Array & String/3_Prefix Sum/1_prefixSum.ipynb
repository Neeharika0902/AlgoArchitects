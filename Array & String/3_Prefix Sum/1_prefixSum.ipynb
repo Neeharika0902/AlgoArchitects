{
 "cells": [
  {
   "cell_type": "markdown",
   "metadata": {},
   "source": [
    "# Example 1: #\n",
    "\n",
    "Given an integer array nums, an array queries where queries[i] = [x, y] and an integer limit, return a boolean array that represents the answer to each query. A query is true if the sum of the subarray from x to y is less than limit, or false otherwise.\n",
    "\n",
    "For example, given nums = [1, 6, 3, 2, 7, 2], \n",
    "\n",
    "\n",
    "queries = [[0, 3], [2, 5], [2, 4]], #this is index ranges\n",
    "\n",
    "limit = 13, the answer is [true, false, true]. \n",
    "\n",
    "For each query, the subarray sums are [12, 14, 12].\n",
    "\n",
    "----------------------------------------------"
   ]
  },
  {
   "cell_type": "code",
   "execution_count": 4,
   "metadata": {},
   "outputs": [],
   "source": [
    "def answer_queries(nums, queries, limit):\n",
    "\n",
    "    # this part is to make prefix_sum Array\n",
    "    prefix = [nums[0]]\n",
    "    for i in range(1, len(nums)):\n",
    "        prefix.append(nums[i] + prefix[-1])\n",
    "\n",
    "\n",
    "    ans = []\n",
    "    for x, y in queries:\n",
    "\n",
    "        # this is equestion to fins out sum for particular range from Prefix Sum array: Prefic[i] - prefic[j] + nums[i]\n",
    "        curr = prefix[y] - prefix[x] + nums[x]\n",
    "        ans.append(curr < limit)\n",
    "\n",
    "    return ans"
   ]
  },
  {
   "cell_type": "code",
   "execution_count": 5,
   "metadata": {},
   "outputs": [
    {
     "data": {
      "text/plain": [
       "[True, False, True]"
      ]
     },
     "execution_count": 5,
     "metadata": {},
     "output_type": "execute_result"
    }
   ],
   "source": [
    "answer_queries([1, 6, 3, 2, 7, 2],[[0, 3], [2, 5], [2, 4]],13)"
   ]
  },
  {
   "cell_type": "code",
   "execution_count": null,
   "metadata": {},
   "outputs": [],
   "source": []
  }
 ],
 "metadata": {
  "kernelspec": {
   "display_name": "Python 3",
   "language": "python",
   "name": "python3"
  },
  "language_info": {
   "codemirror_mode": {
    "name": "ipython",
    "version": 3
   },
   "file_extension": ".py",
   "mimetype": "text/x-python",
   "name": "python",
   "nbconvert_exporter": "python",
   "pygments_lexer": "ipython3",
   "version": "3.12.2"
  }
 },
 "nbformat": 4,
 "nbformat_minor": 2
}
