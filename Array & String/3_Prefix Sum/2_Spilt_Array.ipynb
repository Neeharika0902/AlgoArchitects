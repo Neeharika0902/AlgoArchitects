{
 "cells": [
  {
   "cell_type": "markdown",
   "metadata": {},
   "source": [
    "# Example 2: 2270. Number of Ways to Split Array #\n",
    "\n",
    "Given an integer array nums, find the number of ways to split the array into two parts so that the first section has a sum greater than or equal to the sum of the second section. The second section should have at least one number.\n",
    "\n",
    "------------------------------------------------------------------------\n",
    "\n",
    "We need to split the array.\n",
    "\n",
    "Condition :\n",
    "\n",
    "sum of the left part >= sum of the right part\n",
    "\n"
   ]
  },
  {
   "cell_type": "code",
   "execution_count": 6,
   "metadata": {},
   "outputs": [],
   "source": [
    "def array_splitting(nums):\n",
    "\n",
    "    # intially we will add our first number in the array called 'prefix'\n",
    "    prefix = [nums[0]]\n",
    "\n",
    "    # Now, we need to perform prefix sum in the array. we have already added first element in the array so, will start our loop from index '1'.\n",
    "    for i in range(1, len(nums)):\n",
    "        prefix.append( nums[i] + prefix[len(prefix)-1] )\n",
    "\n",
    "    print('Array :', nums)\n",
    "    print('Prefic Sum Array :', prefix)\n",
    "\n",
    "\n",
    "    # now we have new prefix array which is made using concept of Prefix_sum\n",
    "    num_of_splits_possible = 0 \n",
    "\n",
    "    # Here, Condition has been apply len(nums)-1, bcoz for last iteration, left part will have, i = length-1, so right part becoms last element.\n",
    "    for i in range(len(nums)-1):\n",
    "\n",
    "        left_part = prefix[i]  \n",
    "\n",
    "        # last element of the new_prefix - left_part \n",
    "        right_part = prefix[len(prefix)-1] -  prefix[i] \n",
    "\n",
    "        # condition applied : if left part is >= right part then we will count num_of_splits_possible by 1\n",
    "        if left_part >= right_part:\n",
    "            num_of_splits_possible += 1\n",
    "    \n",
    "    print(\"Maximum number of splitting the array with true condition : \", num_of_splits_possible)\n",
    "\n",
    "\n"
   ]
  },
  {
   "cell_type": "code",
   "execution_count": 7,
   "metadata": {},
   "outputs": [
    {
     "name": "stdout",
     "output_type": "stream",
     "text": [
      "Array : [10, 4, -8, 7]\n",
      "Prefic Sum Array : [10, 14, 6, 13]\n",
      "Maximum number of splitting the array with true condition :  2\n"
     ]
    }
   ],
   "source": [
    "array_splitting([10,4,-8,7])"
   ]
  },
  {
   "cell_type": "markdown",
   "metadata": {},
   "source": [
    "# Think about it !!\n",
    "\n",
    "-> first, you have to make two parts to apply condition.\n",
    "\n",
    "-> Now how can you make those part, \n",
    " left part : directly sum of first i elements\n",
    "\n",
    " right part : Sum of all elements (last element of prefix) - left part (sum of i element)"
   ]
  }
 ],
 "metadata": {
  "kernelspec": {
   "display_name": "Python 3",
   "language": "python",
   "name": "python3"
  },
  "language_info": {
   "codemirror_mode": {
    "name": "ipython",
    "version": 3
   },
   "file_extension": ".py",
   "mimetype": "text/x-python",
   "name": "python",
   "nbconvert_exporter": "python",
   "pygments_lexer": "ipython3",
   "version": "3.12.2"
  }
 },
 "nbformat": 4,
 "nbformat_minor": 2
}
