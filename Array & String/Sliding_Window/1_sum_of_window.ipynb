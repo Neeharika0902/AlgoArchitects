{
 "cells": [
  {
   "cell_type": "markdown",
   "metadata": {},
   "source": [
    "# Example 1 #\n",
    "\n",
    "Given an array of positive integers nums and an integer k, find the length of the longest subarray whose sum is less than or equal to k. \n",
    "\n",
    "Given data :\n",
    "\n",
    "nums = [3, 1, 2, 7, 4, 2, 1, 1, 5] and k = 8"
   ]
  },
  {
   "cell_type": "code",
   "execution_count": 28,
   "metadata": {},
   "outputs": [],
   "source": [
    "def findSumSubarray(nums, k):\n",
    "    left = curr_sum = largest_sub_array = 0\n",
    "\n",
    "    for right in range(len(nums)):\n",
    "        curr_sum += nums[right]\n",
    "\n",
    "        while curr_sum > k:\n",
    "            curr_sum -= nums[left]\n",
    "            left +=1\n",
    "\n",
    "        \n",
    "        # to find length of the subArray/Window\n",
    "        largest_sub_array = max(largest_sub_array, right - left + 1)\n",
    "    \n",
    "    print(\"largest_sub_array is : \",largest_sub_array, '&' , \"Sum of for the valid consdition is : \",curr_sum)\n",
    "    print(\"Right Index is : \",right, ' & ', \"Left index is : \", left)\n",
    "          "
   ]
  },
  {
   "cell_type": "code",
   "execution_count": 29,
   "metadata": {},
   "outputs": [
    {
     "name": "stdout",
     "output_type": "stream",
     "text": [
      "largest_sub_array is :  4 & Sum of for the valid consdition is :  7\n",
      "Right Index is :  8  &  Left index is :  6\n"
     ]
    }
   ],
   "source": [
    "findSumSubarray([3, 1, 2, 7, 4, 2, 1, 1, 5],8)"
   ]
  }
 ],
 "metadata": {
  "kernelspec": {
   "display_name": "Python 3",
   "language": "python",
   "name": "python3"
  },
  "language_info": {
   "codemirror_mode": {
    "name": "ipython",
    "version": 3
   },
   "file_extension": ".py",
   "mimetype": "text/x-python",
   "name": "python",
   "nbconvert_exporter": "python",
   "pygments_lexer": "ipython3",
   "version": "3.12.2"
  }
 },
 "nbformat": 4,
 "nbformat_minor": 2
}
