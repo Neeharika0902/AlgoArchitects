{
 "cells": [
  {
   "cell_type": "markdown",
   "metadata": {},
   "source": [
    "# Example 4: #\n",
    "\n",
    "Given an integer array nums and an integer k, find the sum of the subarray with the largest sum whose length is k."
   ]
  },
  {
   "cell_type": "code",
   "execution_count": 1,
   "metadata": {},
   "outputs": [],
   "source": [
    "def fixedRange_sum(num,k):\n",
    "    curr_sum = 0\n",
    "\n",
    "    # Addition of first Kth numbers \n",
    "    for i in range(k):\n",
    "        curr_sum += num[i]\n",
    "\n",
    "    # storing That addition into new variable \n",
    "\n",
    "    ans = curr_sum\n",
    "\n",
    "    # we already did addition of first Kth numbers. So, we will start our loop from after that.\n",
    "    # That's why here range is starting from k till the length of the num Array\n",
    "    for i in range(k, len(num)):\n",
    "\n",
    "        # we will add value of i and will remove value of [i-k]\n",
    "        curr_sum += num[i] - num[i-k]\n",
    "\n",
    "        # will find maximum value \n",
    "        ans = max(ans, curr_sum)\n",
    "    \n",
    "    print(\" Highest Addition value is : \", ans)"
   ]
  },
  {
   "cell_type": "code",
   "execution_count": 2,
   "metadata": {},
   "outputs": [
    {
     "name": "stdout",
     "output_type": "stream",
     "text": [
      " Highest Addition value is :  18\n"
     ]
    }
   ],
   "source": [
    "fixedRange_sum([3,-1,4,12,-8,5,6],4)"
   ]
  }
 ],
 "metadata": {
  "kernelspec": {
   "display_name": "Python 3",
   "language": "python",
   "name": "python3"
  },
  "language_info": {
   "codemirror_mode": {
    "name": "ipython",
    "version": 3
   },
   "file_extension": ".py",
   "mimetype": "text/x-python",
   "name": "python",
   "nbconvert_exporter": "python",
   "pygments_lexer": "ipython3",
   "version": "3.12.2"
  }
 },
 "nbformat": 4,
 "nbformat_minor": 2
}
