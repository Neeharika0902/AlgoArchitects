{
 "cells": [
  {
   "cell_type": "markdown",
   "metadata": {},
   "source": [
    "# Example 3: # 713. Subarray Product Less Than K.\n",
    "\n",
    "Given an array of positive integers nums and an integer k, return the number of subarrays where the product of all the elements in the subarray is strictly less than k.\n",
    "\n",
    "For example, given the input nums = [10, 5, 2, 6], k = 100, the answer is 8. The subarrays with products less than k are:\n",
    "\n",
    "[10], [5], [2], [6], [10, 5], [5, 2], [2, 6], [5, 2, 6]\n",
    "\n",
    "Number of valid SubArrays  = length of the window"
   ]
  },
  {
   "cell_type": "code",
   "execution_count": 5,
   "metadata": {},
   "outputs": [],
   "source": [
    "def find_subArray(nums , k):\n",
    "\n",
    "    if k <= 1:\n",
    "        return 0\n",
    "    \n",
    "    left = num_subArr = 0\n",
    "    prod_elements = 1\n",
    "\n",
    "    for right in range(len(nums)):\n",
    "        prod_elements *= nums[right]\n",
    "\n",
    "        if(prod_elements >= k):\n",
    "            prod_elements //= nums[left]\n",
    "            left += 1\n",
    "        \n",
    "        num_subArr += right - left + 1\n",
    "\n",
    "    print(\"prod_elements is : \", prod_elements)\n",
    "    print(\"Numbers of Sub Array : \", num_subArr)\n",
    "    print(\"Right Index is : \",right, ' & ', \"Left index is : \", left)"
   ]
  },
  {
   "cell_type": "code",
   "execution_count": 6,
   "metadata": {},
   "outputs": [
    {
     "name": "stdout",
     "output_type": "stream",
     "text": [
      "prod_elements is :  60\n",
      "Numbers of Sub Array :  8\n",
      "Right Index is :  3  &  Left index is :  1\n"
     ]
    }
   ],
   "source": [
    "find_subArray([10, 5, 2, 6], 100)"
   ]
  }
 ],
 "metadata": {
  "kernelspec": {
   "display_name": "Python 3",
   "language": "python",
   "name": "python3"
  },
  "language_info": {
   "codemirror_mode": {
    "name": "ipython",
    "version": 3
   },
   "file_extension": ".py",
   "mimetype": "text/x-python",
   "name": "python",
   "nbconvert_exporter": "python",
   "pygments_lexer": "ipython3",
   "version": "3.12.2"
  }
 },
 "nbformat": 4,
 "nbformat_minor": 2
}
