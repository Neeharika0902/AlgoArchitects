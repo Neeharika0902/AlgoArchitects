{
 "cells": [
  {
   "cell_type": "markdown",
   "metadata": {},
   "source": [
    "# Findinf Target number #\n",
    "\n",
    "Given a Sorted array of unique intergers and a target interger. Return True is target is existes a par of numbers that sums to target, otherwise False.\n",
    "\n",
    "In Easy Words, we need to follow below steps\n",
    "\n",
    "(1) Sort the data if not sorted.\n",
    "\n",
    "(2) Starts adding two numbers if Sum = target, then True.\n",
    "\n",
    "\n",
    "--> nums = [1,2,4,6,8,9,14,15]\n",
    "\n",
    "--> Taget = 13"
   ]
  },
  {
   "cell_type": "markdown",
   "metadata": {},
   "source": [
    "#  (1) With already sorted Data"
   ]
  },
  {
   "cell_type": "code",
   "execution_count": 15,
   "metadata": {},
   "outputs": [],
   "source": [
    "\n",
    "\n",
    "def sum_target(nums, target) -> bool:\n",
    "    left = 0\n",
    "    right = len(nums)-1\n",
    "\n",
    "    while left < right:\n",
    "        curr_sum = nums[left] + nums[right]\n",
    "\n",
    "        if curr_sum == target:\n",
    "            print(nums[left],'+', nums[right], '=', curr_sum)\n",
    "            return True\n",
    "        if curr_sum > target:\n",
    "            right -=1\n",
    "        else:\n",
    "            left +=1\n",
    "            \n",
    "    return False"
   ]
  },
  {
   "cell_type": "code",
   "execution_count": 16,
   "metadata": {},
   "outputs": [
    {
     "name": "stdout",
     "output_type": "stream",
     "text": [
      "4 + 9 = 13\n"
     ]
    },
    {
     "data": {
      "text/plain": [
       "True"
      ]
     },
     "execution_count": 16,
     "metadata": {},
     "output_type": "execute_result"
    }
   ],
   "source": [
    "sum_target([1,2,4,6,8,9,14,15],13)"
   ]
  },
  {
   "cell_type": "markdown",
   "metadata": {},
   "source": [
    "#  (2) With unsorted Data\n"
   ]
  },
  {
   "cell_type": "code",
   "execution_count": null,
   "metadata": {},
   "outputs": [],
   "source": []
  }
 ],
 "metadata": {
  "kernelspec": {
   "display_name": "Python 3",
   "language": "python",
   "name": "python3"
  },
  "language_info": {
   "codemirror_mode": {
    "name": "ipython",
    "version": 3
   },
   "file_extension": ".py",
   "mimetype": "text/x-python",
   "name": "python",
   "nbconvert_exporter": "python",
   "pygments_lexer": "ipython3",
   "version": "3.12.2"
  }
 },
 "nbformat": 4,
 "nbformat_minor": 2
}
