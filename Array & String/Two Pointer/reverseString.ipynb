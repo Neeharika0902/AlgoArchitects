{
 "cells": [
  {
   "cell_type": "markdown",
   "metadata": {},
   "source": [
    "# Reverse String #\n",
    "\n",
    "Write a function that reverses a string. The input string is given as an array of characters s.\n",
    "\n",
    "Given Example :\n",
    "\n",
    "Input: s = [\"h\",\"e\",\"l\",\"l\",\"o\"]\n",
    "\n",
    "Output: [\"o\",\"l\",\"l\",\"e\",\"h\"]"
   ]
  },
  {
   "cell_type": "code",
   "execution_count": 3,
   "metadata": {},
   "outputs": [],
   "source": [
    "def reverseString(s):\n",
    "    left = 0\n",
    "    right = len(s)-1\n",
    "\n",
    "    while(left<right):\n",
    "        \n",
    "        val1 = s[left]\n",
    "        s[left] = s[right]\n",
    "        s[right] = val1\n",
    "\n",
    "        left += 1\n",
    "        right -=1\n",
    "\n",
    "    print(s)"
   ]
  },
  {
   "cell_type": "code",
   "execution_count": 4,
   "metadata": {},
   "outputs": [
    {
     "name": "stdout",
     "output_type": "stream",
     "text": [
      "['o', 'l', 'l', 'e', 'h']\n"
     ]
    }
   ],
   "source": [
    "reverseString([\"h\",\"e\",\"l\",\"l\",\"o\"])"
   ]
  }
 ],
 "metadata": {
  "kernelspec": {
   "display_name": "Python 3",
   "language": "python",
   "name": "python3"
  },
  "language_info": {
   "codemirror_mode": {
    "name": "ipython",
    "version": 3
   },
   "file_extension": ".py",
   "mimetype": "text/x-python",
   "name": "python",
   "nbconvert_exporter": "python",
   "pygments_lexer": "ipython3",
   "version": "3.12.2"
  }
 },
 "nbformat": 4,
 "nbformat_minor": 2
}
