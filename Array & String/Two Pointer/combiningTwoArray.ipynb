{
 "cells": [
  {
   "cell_type": "markdown",
   "metadata": {},
   "source": [
    "# Combining Two Array in Sorted Manner #\n",
    "\n",
    "Given Two Arrays arr1 & arr2, return a new array that combines both of these arrays in sorted manner.\n",
    "\n",
    "In Easy Words, we need to follow below steps\n",
    "\n",
    "(1) Sort the data if not sorted.\n",
    "\n",
    "(2) Keep on pinter at starting index of First Array. Another pointer at starting index of Second Array.\n",
    "\n",
    "(3) Now we will compare elements from each arrays and will append smaller number into new array.\n",
    "\n",
    "(4) Also, we will check if we reach to end of one array then, we can't ignore left array elements. for that we will add additional while .\n",
    "\n",
    "--> arry1 = [1,4,6,7,20,35]\n",
    "\n",
    "--> arry2 = [3,5,9]"
   ]
  },
  {
   "cell_type": "code",
   "execution_count": 3,
   "metadata": {},
   "outputs": [],
   "source": [
    "def combineTwoarray(arry1, arry2):\n",
    "    newArray = []\n",
    "    i=0\n",
    "    j=0\n",
    "\n",
    "    while(i<len(arry1) and j<len(arry2)):\n",
    "\n",
    "        if(arry1[i] < arry2[j]):\n",
    "            newArray.append(arry1[i])\n",
    "            i += 1\n",
    "        else:\n",
    "            newArray.append(arry2[j])\n",
    "            j += 1\n",
    "    \n",
    "    while(i<len(arry1)):\n",
    "        newArray.append(arry1[i])\n",
    "        i += 1\n",
    "\n",
    "    while(j<len(arry2)):\n",
    "        newArray.append(arry2[j])\n",
    "        i += 1\n",
    "\n",
    "    print(newArray)"
   ]
  },
  {
   "cell_type": "code",
   "execution_count": 4,
   "metadata": {},
   "outputs": [
    {
     "name": "stdout",
     "output_type": "stream",
     "text": [
      "[1, 3, 4, 5, 6, 7, 9, 20, 35]\n"
     ]
    }
   ],
   "source": [
    "combineTwoarray([1,4,6,7,20,35],[3,5,9])"
   ]
  }
 ],
 "metadata": {
  "kernelspec": {
   "display_name": "Python 3",
   "language": "python",
   "name": "python3"
  },
  "language_info": {
   "codemirror_mode": {
    "name": "ipython",
    "version": 3
   },
   "file_extension": ".py",
   "mimetype": "text/x-python",
   "name": "python",
   "nbconvert_exporter": "python",
   "pygments_lexer": "ipython3",
   "version": "3.12.2"
  }
 },
 "nbformat": 4,
 "nbformat_minor": 2
}
