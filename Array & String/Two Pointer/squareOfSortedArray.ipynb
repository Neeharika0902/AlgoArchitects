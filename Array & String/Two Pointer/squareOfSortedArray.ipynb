{
 "cells": [
  {
   "cell_type": "markdown",
   "metadata": {},
   "source": [
    "# Square of sorted Array #\n",
    "Given an integer array nums sorted in non-decreasing order, return an array of the squares of each number sorted in non-decreasing order.\n",
    "\n",
    "\n",
    "For Example:\n",
    "\n",
    "Input: nums = [-4,-1,0,3,10]\n",
    "\n",
    "Output: [0,1,9,16,100]\n",
    "\n",
    "Explanation: After squaring, the array becomes [16,1,0,9,100].\n",
    "\n",
    "After sorting, it becomes [0,1,9,16,100].\n"
   ]
  },
  {
   "cell_type": "code",
   "execution_count": 27,
   "metadata": {},
   "outputs": [],
   "source": [
    "# 1. Already sorted array is given\n",
    "\n",
    "def squaredSortedArray(nums):\n",
    "    newArray = []\n",
    "    left = 0\n",
    "    right = len(nums) - 1 \n",
    "\n",
    "    while (left<right):\n",
    "\n",
    "        if(abs(nums[left]) < abs(nums[right])):\n",
    "            newArray.append(abs(nums[left]))\n",
    "            left += 1\n",
    "\n",
    "            print(newArray)\n",
    "\n",
    "\n",
    "        else:\n",
    "            val1 = nums[left]\n",
    "            nums[left] = nums[right]\n",
    "            nums[right] = val1\n",
    "\n",
    "            newArray.append(abs(nums[left]))\n",
    "            right -= 1\n",
    "\n",
    "            print(newArray)\n",
    "            \n",
    "    print(newArray)"
   ]
  },
  {
   "cell_type": "code",
   "execution_count": 28,
   "metadata": {},
   "outputs": [
    {
     "name": "stdout",
     "output_type": "stream",
     "text": [
      "[4]\n",
      "[4, 1]\n",
      "[4, 1, 0]\n",
      "[4, 1, 0, 3]\n",
      "[4, 1, 0, 3]\n"
     ]
    }
   ],
   "source": [
    "squaredSortedArray([-4,-1,0,3,10])"
   ]
  },
  {
   "cell_type": "code",
   "execution_count": 11,
   "metadata": {},
   "outputs": [],
   "source": [
    "def squaredArray(nums):\n",
    "    newArray2 = []\n",
    "    left = 0\n",
    "    right = left + 1\n",
    "\n",
    "    \n",
    "    while(right < len(nums)):\n",
    "\n",
    "        if(nums[left]<nums[right]):\n",
    "            newArray2.append(nums[left])\n",
    "            right += 1\n",
    "            print(newArray2) \n",
    "\n",
    "        else:\n",
    "            val1 = nums[left]\n",
    "            nums[left] = nums[right]\n",
    "            nums[right] = val1\n",
    "\n",
    "            newArray2.append(nums[left])\n",
    "\n",
    "            print(newArray2) \n",
    "            left += 1\n",
    "    \n",
    "    print(newArray2) "
   ]
  },
  {
   "cell_type": "code",
   "execution_count": 12,
   "metadata": {},
   "outputs": [
    {
     "name": "stdout",
     "output_type": "stream",
     "text": [
      "[1]\n",
      "[1, 16]\n",
      "[1, 16, 0]\n",
      "[1, 16, 0, 0]\n",
      "[1, 16, 0, 0, 0]\n",
      "[1, 16, 0, 0, 0, 9]\n"
     ]
    },
    {
     "ename": "IndexError",
     "evalue": "list index out of range",
     "output_type": "error",
     "traceback": [
      "\u001b[0;31m---------------------------------------------------------------------------\u001b[0m",
      "\u001b[0;31mIndexError\u001b[0m                                Traceback (most recent call last)",
      "Cell \u001b[0;32mIn[12], line 1\u001b[0m\n\u001b[0;32m----> 1\u001b[0m \u001b[43msquaredArray\u001b[49m\u001b[43m(\u001b[49m\u001b[43m[\u001b[49m\u001b[38;5;241;43m16\u001b[39;49m\u001b[43m,\u001b[49m\u001b[38;5;241;43m1\u001b[39;49m\u001b[43m,\u001b[49m\u001b[38;5;241;43m0\u001b[39;49m\u001b[43m,\u001b[49m\u001b[38;5;241;43m9\u001b[39;49m\u001b[43m,\u001b[49m\u001b[38;5;241;43m100\u001b[39;49m\u001b[43m]\u001b[49m\u001b[43m)\u001b[49m\n",
      "Cell \u001b[0;32mIn[11], line 9\u001b[0m, in \u001b[0;36msquaredArray\u001b[0;34m(nums)\u001b[0m\n\u001b[1;32m      6\u001b[0m \u001b[38;5;28;01mwhile\u001b[39;00m(left\u001b[38;5;241m<\u001b[39mright):\n\u001b[1;32m      7\u001b[0m     \u001b[38;5;28;01mwhile\u001b[39;00m(right \u001b[38;5;241m<\u001b[39m \u001b[38;5;28mlen\u001b[39m(nums)):\n\u001b[0;32m----> 9\u001b[0m         \u001b[38;5;28;01mif\u001b[39;00m(\u001b[43mnums\u001b[49m\u001b[43m[\u001b[49m\u001b[43mleft\u001b[49m\u001b[43m]\u001b[49m\u001b[38;5;241m<\u001b[39mnums[right]):\n\u001b[1;32m     10\u001b[0m             newArray2\u001b[38;5;241m.\u001b[39mappend(nums[left])\n\u001b[1;32m     11\u001b[0m             right \u001b[38;5;241m+\u001b[39m\u001b[38;5;241m=\u001b[39m \u001b[38;5;241m1\u001b[39m\n",
      "\u001b[0;31mIndexError\u001b[0m: list index out of range"
     ]
    }
   ],
   "source": [
    "squaredArray([16,1,0,9,100])"
   ]
  },
  {
   "cell_type": "code",
   "execution_count": null,
   "metadata": {},
   "outputs": [],
   "source": []
  }
 ],
 "metadata": {
  "kernelspec": {
   "display_name": "Python 3",
   "language": "python",
   "name": "python3"
  },
  "language_info": {
   "codemirror_mode": {
    "name": "ipython",
    "version": 3
   },
   "file_extension": ".py",
   "mimetype": "text/x-python",
   "name": "python",
   "nbconvert_exporter": "python",
   "pygments_lexer": "ipython3",
   "version": "3.12.2"
  }
 },
 "nbformat": 4,
 "nbformat_minor": 2
}
