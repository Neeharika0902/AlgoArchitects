{
 "cells": [
  {
   "cell_type": "markdown",
   "metadata": {},
   "source": [
    "Given an array of strings words, return the first palindromic string in the array. If there is no such string, return an empty string \"\".\n",
    "\n",
    "A string is palindromic if it reads the same forward and backward.\n",
    "\n",
    "-------------------------------------------------------------------------------------------------------- \n",
    "\n",
    "Example 1:\n",
    "\n",
    "Input: words = [\"abc\",\"car\",\"ada\",\"racecar\",\"cool\"]\n",
    "Output: \"ada\"\n",
    "Explanation: The first string that is palindromic is \"ada\".\n",
    "Note that \"racecar\" is also palindromic, but it is not the first.\n",
    "Example 2:\n",
    "\n",
    "Input: words = [\"notapalindrome\",\"racecar\"]\n",
    "Output: \"racecar\"\n",
    "Explanation: The first and only string that is palindromic is \"racecar\".\n",
    "Example 3:\n",
    "\n",
    "Input: words = [\"def\",\"ghi\"]\n",
    "Output: \"\"\n",
    "Explanation: There are no palindromic strings, so the empty string is returned."
   ]
  },
  {
   "cell_type": "code",
   "execution_count": 2,
   "metadata": {},
   "outputs": [],
   "source": [
    "from typing import List\n"
   ]
  },
  {
   "cell_type": "code",
   "execution_count": 4,
   "metadata": {},
   "outputs": [],
   "source": [
    "words = [\"abc\",\"car\",\"ada\",\"racecar\",\"cool\"]\n",
    "\n",
    "class Solution:\n",
    "    def firstPalindrome(self, words: List[str]) -> str:\n",
    "        for w in words:\n",
    "            if w == w[::-1]:\n",
    "                return w\n",
    "        return \"\"\n",
    "    "
   ]
  },
  {
   "cell_type": "code",
   "execution_count": 5,
   "metadata": {},
   "outputs": [
    {
     "name": "stdout",
     "output_type": "stream",
     "text": [
      "ada\n"
     ]
    }
   ],
   "source": [
    "# Create an instance of the Solution class\n",
    "solution = Solution()\n",
    "\n",
    "# List of words\n",
    "words = [\"abc\", \"car\", \"ada\", \"racecar\", \"cool\"]\n",
    "\n",
    "# Call the firstPalindrome method and print the result\n",
    "print(solution.firstPalindrome(words))"
   ]
  },
  {
   "cell_type": "markdown",
   "metadata": {},
   "source": [
    "# Explaination of w == w[::-1] #\n",
    "\n",
    "w -> Actual String\n",
    "\n",
    "w[::-1] -> Reverse String"
   ]
  },
  {
   "cell_type": "markdown",
   "metadata": {},
   "source": [
    "# w[::-1]: \n",
    "This part of the code uses Python's slicing feature to reverse the string w. The [::-1] syntax means \"take the string w and slice it from the beginning to the end, but step backwards by 1,\" which effectively reverses the string.\n",
    "\n",
    "# w == w[::-1]: \n",
    "This comparison checks if the original string w is equal to its reversed version.\n",
    "\n",
    "\n"
   ]
  },
  {
   "cell_type": "markdown",
   "metadata": {},
   "source": []
  }
 ],
 "metadata": {
  "kernelspec": {
   "display_name": "Python 3",
   "language": "python",
   "name": "python3"
  },
  "language_info": {
   "codemirror_mode": {
    "name": "ipython",
    "version": 3
   },
   "file_extension": ".py",
   "mimetype": "text/x-python",
   "name": "python",
   "nbconvert_exporter": "python",
   "pygments_lexer": "ipython3",
   "version": "3.12.2"
  }
 },
 "nbformat": 4,
 "nbformat_minor": 2
}
