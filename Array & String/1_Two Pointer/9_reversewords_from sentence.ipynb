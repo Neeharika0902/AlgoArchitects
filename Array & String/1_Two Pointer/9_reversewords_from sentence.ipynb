{
 "cells": [
  {
   "cell_type": "markdown",
   "metadata": {},
   "source": [
    "Given a string s, reverse the order of characters in each word within a sentence while still preserving whitespace and initial word order.\n",
    "\n",
    " \n",
    "Example 1: ------------\n",
    "\n",
    "Input: s = \"Let's take LeetCode contest\"\n",
    "\n",
    "Output: \"s'teL ekat edoCteeL tsetnoc\"\n",
    "\n",
    "Example 2: ------------\n",
    "\n",
    "Input: s = \"Mr Ding\"\n",
    "\n",
    "Output: \"rM gniD\"\n",
    " \n",
    "\n",
    "Constraints: -------\n",
    "\n",
    "1 <= s.length <= 5 * 104\n",
    "s contains printable ASCII characters.\n",
    "s does not contain any leading or trailing spaces.\n",
    "There is at least one word in s.\n",
    "All the words in s are separated by a single space."
   ]
  },
  {
   "cell_type": "code",
   "execution_count": 17,
   "metadata": {},
   "outputs": [],
   "source": [
    "def reverseWords(str):\n",
    "\n",
    "    # firstly, we are splitting sentence into words\n",
    "    word_array = str.split()\n",
    "    print(word_array)\n",
    "\n",
    "    # This will reverse each word form the array\n",
    "    reversed_words = [i[::-1] for i in word_array]\n",
    "\n",
    "    print(reversed_words)\n",
    "\n",
    "    # web willl combine reverse words\n",
    "    reversed_sentence = ' '.join(reversed_words)\n",
    "\n",
    "    print(reversed_sentence)"
   ]
  },
  {
   "cell_type": "code",
   "execution_count": 18,
   "metadata": {},
   "outputs": [
    {
     "name": "stdout",
     "output_type": "stream",
     "text": [
      "[\"Let's\", 'take', 'LeetCode', 'contest']\n",
      "[\"s'teL\", 'ekat', 'edoCteeL', 'tsetnoc']\n",
      "s'teL ekat edoCteeL tsetnoc\n"
     ]
    }
   ],
   "source": [
    "reverseWords(\"Let's take LeetCode contest\")"
   ]
  },
  {
   "cell_type": "markdown",
   "metadata": {},
   "source": [
    "# Leet Code"
   ]
  },
  {
   "cell_type": "code",
   "execution_count": null,
   "metadata": {},
   "outputs": [],
   "source": [
    "class Solution:\n",
    "    def reverseWords(self, s: str) -> str:\n",
    "        \n",
    "        word_array = s.split()\n",
    "\n",
    "        reverse_word = [i[::-1] for i in word_array]\n",
    "\n",
    "        reverse_sentence = ' '.join(reverse_word)\n",
    "\n",
    "        return reverse_sentence"
   ]
  }
 ],
 "metadata": {
  "kernelspec": {
   "display_name": "Python 3",
   "language": "python",
   "name": "python3"
  },
  "language_info": {
   "codemirror_mode": {
    "name": "ipython",
    "version": 3
   },
   "file_extension": ".py",
   "mimetype": "text/x-python",
   "name": "python",
   "nbconvert_exporter": "python",
   "pygments_lexer": "ipython3",
   "version": "3.12.2"
  }
 },
 "nbformat": 4,
 "nbformat_minor": 2
}
