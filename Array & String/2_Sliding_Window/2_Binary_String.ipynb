{
 "cells": [
  {
   "cell_type": "markdown",
   "metadata": {},
   "source": [
    "# Example 2 # \n",
    "\n",
    "You are given a binary string s (a string containing only \"0\" and \"1\"). You may choose up to one \"0\" and flip it to a \"1\". What is the length of the longest substring achievable that contains only \"1\"?\n",
    "\n",
    "For example,\n",
    "\n",
    "given s = \"1101100111\", the answer is 5. If you perform the flip at index 2, the string becomes 1111100111."
   ]
  },
  {
   "cell_type": "code",
   "execution_count": 7,
   "metadata": {},
   "outputs": [],
   "source": [
    "def find_logest_length(s):\n",
    "    left = sumZero = windowLength = 0\n",
    "\n",
    "    for right in range(len(s)):\n",
    "\n",
    "        if s[right] == \"0\":\n",
    "            sumZero += 1\n",
    "        \n",
    "        while sumZero > 1:\n",
    "            if s[left] == '0':\n",
    "                sumZero -= 1\n",
    "            left += 1\n",
    "\n",
    "        windowLength = max(windowLength, right - left + 1)\n",
    "    \n",
    "    print(\"largest Window is :\",windowLength)\n",
    "    print(\"Right Index is : \",right, ' & ', \"Left index is : \", left)"
   ]
  },
  {
   "cell_type": "code",
   "execution_count": 8,
   "metadata": {},
   "outputs": [
    {
     "name": "stdout",
     "output_type": "stream",
     "text": [
      "largest Window is : 7\n",
      "Right Index is :  13  &  Left index is :  7\n"
     ]
    }
   ],
   "source": [
    "find_logest_length('11111001110111')"
   ]
  },
  {
   "cell_type": "code",
   "execution_count": null,
   "metadata": {},
   "outputs": [],
   "source": []
  }
 ],
 "metadata": {
  "kernelspec": {
   "display_name": "Python 3",
   "language": "python",
   "name": "python3"
  },
  "language_info": {
   "codemirror_mode": {
    "name": "ipython",
    "version": 3
   },
   "file_extension": ".py",
   "mimetype": "text/x-python",
   "name": "python",
   "nbconvert_exporter": "python",
   "pygments_lexer": "ipython3",
   "version": "3.12.2"
  }
 },
 "nbformat": 4,
 "nbformat_minor": 2
}
