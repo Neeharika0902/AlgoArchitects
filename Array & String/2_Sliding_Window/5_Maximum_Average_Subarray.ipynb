{
 "cells": [
  {
   "cell_type": "markdown",
   "metadata": {},
   "source": [
    "# Maximum Average Subarray #\n",
    "\n",
    "You are given an integer array nums consisting of n elements, and an integer k.\n",
    "\n",
    "Find a contiguous subarray whose length is equal to k that has the maximum average value and return this value. Any answer with a calculation error less than 10-5 will be accepted.\n",
    "\n",
    "Example 1:\n",
    "\n",
    "Input: nums = [1,12,-5,-6,50,3], k = 4\n",
    "\n",
    "Output: 12.75000\n",
    "\n",
    "Explanation: Maximum average is (12 - 5 - 6 + 50) / 4 = 51 / 4 = 12.75\n",
    "\n",
    "Example 2:\n",
    "\n",
    "Input: nums = [5], k = 1\n",
    "\n",
    "Output: 5.00000\n",
    " "
   ]
  },
  {
   "cell_type": "code",
   "execution_count": 130,
   "metadata": {},
   "outputs": [],
   "source": [
    "def maxAVG_sum(num,k):\n",
    "    i = j = curr_sum = curr_avg = 0\n",
    "    max_avg = -99999999        \n",
    "    \n",
    "        # if size of array and window size k  is 1 then we will return that value directly\n",
    "    if(len(num)==1 and k==1):\n",
    "        return num[i]\n",
    "        \n",
    "        # if k == 1 then we will return maximum value of array\n",
    "    if(k==1):\n",
    "        return max(num)\n",
    "\n",
    "        # Addition of first Kth numbers \n",
    "    for ii in range(k):\n",
    "        curr_sum += num[ii]\n",
    "        \n",
    "        # average of first window\n",
    "    max_avg = curr_sum/k\n",
    "        \n",
    "        # now we will start our loop from kth position till length of array\n",
    "    for j in range(k,len(num)):\n",
    "            \n",
    "        curr_sum = curr_sum + num[j]\n",
    "        curr_sum = curr_sum - num[i]\n",
    "        curr_avg = curr_sum/k\n",
    "        max_avg = max(max_avg,curr_avg)\n",
    "        i += 1\n",
    "        \n",
    "    return max_avg\n",
    "     "
   ]
  },
  {
   "cell_type": "code",
   "execution_count": 131,
   "metadata": {},
   "outputs": [
    {
     "data": {
      "text/plain": [
       "12.75"
      ]
     },
     "execution_count": 131,
     "metadata": {},
     "output_type": "execute_result"
    }
   ],
   "source": [
    "maxAVG_sum([1,12,-5,-6,50,3],4)\n"
   ]
  },
  {
   "cell_type": "markdown",
   "metadata": {},
   "source": [
    "# For Leet Code Editor"
   ]
  },
  {
   "cell_type": "code",
   "execution_count": null,
   "metadata": {},
   "outputs": [],
   "source": [
    "         \n",
    "def findMaxAverage(self, num: List[int], k: int) -> float:\n",
    "        i = j = curr_sum = curr_avg = 0\n",
    "        max_avg = -99999999        \n",
    "    \n",
    "        # if size of array and window size k  is 1 then we will return that value directly\n",
    "        if(len(num)==1 and k==1):\n",
    "            return num[i]\n",
    "        \n",
    "        # if k == 1 then we will return maximum value of array\n",
    "        if(k==1):\n",
    "             return max(num)\n",
    "\n",
    "        # Addition of first Kth numbers \n",
    "        for ii in range(k):\n",
    "            curr_sum += num[ii]\n",
    "        \n",
    "        # average of first window\n",
    "        max_avg = curr_sum/k\n",
    "        \n",
    "        # now we will start our loop from kth position till length of array\n",
    "        for j in range(k,len(num)):\n",
    "            \n",
    "            curr_sum = curr_sum + num[j]\n",
    "            curr_sum = curr_sum - num[i]\n",
    "            curr_avg = curr_sum/k\n",
    "            max_avg = max(max_avg,curr_avg)\n",
    "            i += 1\n",
    "        \n",
    "        return max_avg\n",
    "    \n",
    "     "
   ]
  },
  {
   "cell_type": "code",
   "execution_count": null,
   "metadata": {},
   "outputs": [],
   "source": []
  }
 ],
 "metadata": {
  "kernelspec": {
   "display_name": "Python 3",
   "language": "python",
   "name": "python3"
  },
  "language_info": {
   "codemirror_mode": {
    "name": "ipython",
    "version": 3
   },
   "file_extension": ".py",
   "mimetype": "text/x-python",
   "name": "python",
   "nbconvert_exporter": "python",
   "pygments_lexer": "ipython3",
   "version": "3.12.2"
  }
 },
 "nbformat": 4,
 "nbformat_minor": 2
}
