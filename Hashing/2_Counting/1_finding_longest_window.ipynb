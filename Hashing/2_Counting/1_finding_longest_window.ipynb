{
 "cells": [
  {
   "cell_type": "markdown",
   "metadata": {},
   "source": [
    "You are given a string s and an integer k. Find the length of the longest substring that contains at most k distinct characters.\n",
    "\n",
    "For example, given s = \"eceba\" and k = 2, return 3. The longest substring with at most 2 distinct characters is \"ece\"."
   ]
  },
  {
   "cell_type": "code",
   "execution_count": 1,
   "metadata": {},
   "outputs": [],
   "source": [
    "from collections import defaultdict"
   ]
  },
  {
   "cell_type": "code",
   "execution_count": 5,
   "metadata": {},
   "outputs": [],
   "source": [
    "def find_long_window(s,k):\n",
    "    count = defaultdict(int)\n",
    "    left = ans = 0\n",
    "\n",
    "    for right in range(len(s)):\n",
    "        # this will increase occurrence of character\n",
    "        # right will be started for 0 to length of the s. & added into dictionary.\n",
    "        # If key (s[right]) is alreday into  dictionary then value will be updated by +1. otherwise value will be inserted with new key.\n",
    "        count[s[right]] += 1\n",
    "\n",
    "        # if window size > k, then we will decrese left by -1 \n",
    "        while len(count) > k:\n",
    "            count[s[left]] -= 1\n",
    "\n",
    "            # if value of left = 0 , then we will delete that key-value\n",
    "            if count[s[left]] == 0:\n",
    "                del count[s[left]]\n",
    "            \n",
    "            left += 1\n",
    "\n",
    "        ans = max(ans,right-left+1)\n",
    "\n",
    "    return ans"
   ]
  },
  {
   "cell_type": "code",
   "execution_count": 6,
   "metadata": {},
   "outputs": [
    {
     "data": {
      "text/plain": [
       "3"
      ]
     },
     "execution_count": 6,
     "metadata": {},
     "output_type": "execute_result"
    }
   ],
   "source": [
    "find_long_window('eceba', 2)"
   ]
  },
  {
   "cell_type": "code",
   "execution_count": null,
   "metadata": {},
   "outputs": [],
   "source": []
  }
 ],
 "metadata": {
  "kernelspec": {
   "display_name": "Python 3",
   "language": "python",
   "name": "python3"
  },
  "language_info": {
   "codemirror_mode": {
    "name": "ipython",
    "version": 3
   },
   "file_extension": ".py",
   "mimetype": "text/x-python",
   "name": "python",
   "nbconvert_exporter": "python",
   "pygments_lexer": "ipython3",
   "version": "3.12.2"
  }
 },
 "nbformat": 4,
 "nbformat_minor": 2
}
