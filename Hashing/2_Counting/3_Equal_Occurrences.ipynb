{
 "cells": [
  {
   "cell_type": "markdown",
   "metadata": {},
   "source": [
    "Example 3: 1941. Check if All Characters Have Equal Number of Occurrences\n",
    "\n",
    "Given a string s, determine if all characters have the same frequency.\n",
    "\n",
    "For example, given s = \"abacbc\", return true. All characters appear twice. Given s = \"aaabb\", return false. \"a\" appears 3 times, \"b\" appears 2 times. 3 != 2."
   ]
  },
  {
   "cell_type": "code",
   "execution_count": 1,
   "metadata": {},
   "outputs": [],
   "source": [
    "from collections import defaultdict\n",
    "\n",
    "\n",
    "def occurrences_Equal(s):\n",
    "    counts = defaultdict(int)\n",
    "    for c in s:\n",
    "        counts[c] += 1\n",
    "        \n",
    "    frequencies = counts.values()\n",
    "\n",
    "    # set() : always stores unique numbers  \n",
    "    # here, if length is equals to 1, that means all characters has same counts\n",
    "    return len(set(frequencies)) == 1"
   ]
  },
  {
   "cell_type": "code",
   "execution_count": 3,
   "metadata": {},
   "outputs": [
    {
     "data": {
      "text/plain": [
       "True"
      ]
     },
     "execution_count": 3,
     "metadata": {},
     "output_type": "execute_result"
    }
   ],
   "source": [
    "occurrences_Equal('aabb')"
   ]
  }
 ],
 "metadata": {
  "kernelspec": {
   "display_name": "Python 3",
   "language": "python",
   "name": "python3"
  },
  "language_info": {
   "codemirror_mode": {
    "name": "ipython",
    "version": 3
   },
   "file_extension": ".py",
   "mimetype": "text/x-python",
   "name": "python",
   "nbconvert_exporter": "python",
   "pygments_lexer": "ipython3",
   "version": "3.12.2"
  }
 },
 "nbformat": 4,
 "nbformat_minor": 2
}
