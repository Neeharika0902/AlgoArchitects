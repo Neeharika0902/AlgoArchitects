{
 "cells": [
  {
   "cell_type": "markdown",
   "metadata": {},
   "source": [
    "# 2248. Intersection of Multiple Arrays\n",
    "\n",
    "Given a 2D array nums that contains n arrays of distinct integers, return a sorted array containing all the numbers that appear in all n arrays.\n",
    "\n",
    "For example, given nums = [[3,1,2,4,5],[1,2,3,4],[3,4,5,6]], return [3, 4]. 3 and 4 are the only numbers that are in all arrays.\n",
    "\n"
   ]
  },
  {
   "cell_type": "code",
   "execution_count": 1,
   "metadata": {},
   "outputs": [],
   "source": [
    "from collections import defaultdict"
   ]
  },
  {
   "cell_type": "code",
   "execution_count": 4,
   "metadata": {},
   "outputs": [],
   "source": [
    "def intersection_array(nums):\n",
    "    count = defaultdict(int)\n",
    "\n",
    "    # 2 for loops bcoz, we have nested array as input \n",
    "    # nums are main array which containing sub Arrays (subArray)\n",
    "    for subArray in nums:\n",
    "        for j in subArray:\n",
    "            # we are counting appearance of each number in this line\n",
    "            # if key is already there,then it will update by +1 , otherwise it will add new Key-pair.\n",
    "            count[j] += 1 \n",
    "\n",
    "    # we need to find intersection,  count of number should be equals to total number of sub array (length of main array) \n",
    "    n = len(nums)\n",
    "    ans = []\n",
    "\n",
    "    # here we will check for each key's value, if it is equals to n then we will append into ans.\n",
    "    for key in count:\n",
    "        if count[key] == n:\n",
    "            ans.append(key)\n",
    "    \n",
    "    return sorted(ans)\n",
    "\n",
    "    "
   ]
  },
  {
   "cell_type": "code",
   "execution_count": 5,
   "metadata": {},
   "outputs": [
    {
     "data": {
      "text/plain": [
       "[3, 4]"
      ]
     },
     "execution_count": 5,
     "metadata": {},
     "output_type": "execute_result"
    }
   ],
   "source": [
    "intersection_array([[3,1,2,4,5],[1,2,3,4],[3,4,5,6]])"
   ]
  },
  {
   "cell_type": "code",
   "execution_count": null,
   "metadata": {},
   "outputs": [],
   "source": []
  }
 ],
 "metadata": {
  "kernelspec": {
   "display_name": "Python 3",
   "language": "python",
   "name": "python3"
  },
  "language_info": {
   "codemirror_mode": {
    "name": "ipython",
    "version": 3
   },
   "file_extension": ".py",
   "mimetype": "text/x-python",
   "name": "python",
   "nbconvert_exporter": "python",
   "pygments_lexer": "ipython3",
   "version": "3.12.2"
  }
 },
 "nbformat": 4,
 "nbformat_minor": 2
}
