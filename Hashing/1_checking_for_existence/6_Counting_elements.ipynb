{
 "cells": [
  {
   "cell_type": "markdown",
   "metadata": {},
   "source": [
    "# Counting \n",
    "\n",
    "Given an integer array arr, count how many elements x there are, such that x + 1 is also in arr. If there are duplicates in arr, count them separately.\n",
    "\n",
    " "
   ]
  },
  {
   "cell_type": "markdown",
   "metadata": {},
   "source": [
    "\n",
    "\n",
    "# Example 1:\n",
    "\n",
    "Input: arr = [1,2,3]\n",
    "\n",
    "Output: 2\n",
    "\n",
    "Explanation: 1 and 2 are counted cause 2 and 3 are in arr.\n",
    "\n",
    "\n",
    "# Example 2:\n",
    "\n",
    "Input: arr = [1,1,3,3,5,5,7,7]\n",
    "\n",
    "Output: 0\n",
    "\n",
    "Explanation: No numbers are counted, cause there is no 2, 4, 6, or 8 in arr."
   ]
  },
  {
   "cell_type": "code",
   "execution_count": 32,
   "metadata": {},
   "outputs": [],
   "source": [
    "def countElements(arr) -> int:\n",
    "    count = 0\n",
    "    for x in arr:\n",
    "        if x + 1 in arr:\n",
    "            count += 1\n",
    "    return count\n",
    "\n",
    "        \n"
   ]
  },
  {
   "cell_type": "code",
   "execution_count": 33,
   "metadata": {},
   "outputs": [
    {
     "data": {
      "text/plain": [
       "3"
      ]
     },
     "execution_count": 33,
     "metadata": {},
     "output_type": "execute_result"
    }
   ],
   "source": [
    "countElements([1,3,2,3,5,0])"
   ]
  },
  {
   "cell_type": "code",
   "execution_count": null,
   "metadata": {},
   "outputs": [],
   "source": []
  }
 ],
 "metadata": {
  "kernelspec": {
   "display_name": "Python 3",
   "language": "python",
   "name": "python3"
  },
  "language_info": {
   "codemirror_mode": {
    "name": "ipython",
    "version": 3
   },
   "file_extension": ".py",
   "mimetype": "text/x-python",
   "name": "python",
   "nbconvert_exporter": "python",
   "pygments_lexer": "ipython3",
   "version": "3.12.2"
  }
 },
 "nbformat": 4,
 "nbformat_minor": 2
}
