{
 "cells": [
  {
   "cell_type": "markdown",
   "metadata": {},
   "source": [
    "# 2351. First Letter to Appear Twice\n",
    "\n",
    "Given a string s consisting of lowercase English letters, return the first letter to appear twice.\n",
    "\n",
    "Note:\n",
    "\n",
    "A letter a appears twice before another letter b if the second occurrence of a is before the second occurrence of b.\n",
    "s will contain at least one letter that appears twice.\n",
    " \n",
    "\n",
    "Example 1: -------\n",
    "\n",
    "Input: s = \"abccbaacz\"\n",
    "\n",
    "Output: \"c\"\n",
    "\n",
    "\n",
    "Example 2: -----\n",
    "\n",
    "Input: s = \"abcdd\"\n",
    "\n",
    "Output: \"d\"\n",
    "\n",
    " \n",
    "\n",
    "Constraints:\n",
    "\n",
    "2 <= s.length <= 100\n",
    "s consists of lowercase English letters.\n",
    "s has at least one repeated letter."
   ]
  },
  {
   "cell_type": "code",
   "execution_count": 5,
   "metadata": {},
   "outputs": [],
   "source": [
    "def repeatedCharacter(s):\n",
    "    seen = set()\n",
    "\n",
    "    for c in s:\n",
    "        #print(c)\n",
    "        if c in seen:\n",
    "            print(c)\n",
    "        seen.add(c)\n",
    "\n",
    "    print(\" \")"
   ]
  },
  {
   "cell_type": "code",
   "execution_count": 6,
   "metadata": {},
   "outputs": [
    {
     "name": "stdout",
     "output_type": "stream",
     "text": [
      "d\n",
      "a\n",
      " \n"
     ]
    }
   ],
   "source": [
    "repeatedCharacter(\"abcdeda\")"
   ]
  },
  {
   "cell_type": "markdown",
   "metadata": {},
   "source": [
    "# set()\n",
    "\n",
    "1) Converting List into set: | string(set(list))\n",
    "\n",
    "The list before conversion is : [3, 4, 1, 4, 5]\n",
    "\n",
    "The list after conversion is : {1, 3, 4, 5}\n",
    "\n",
    "2) Dictionary to set:\n",
    "\n",
    "dic1 = { 4 : 'geeks', 1 : 'for', 3 : 'geeks' } \n",
    "\n",
    "- Printing dictionary before conversion & internally sorted \n",
    "\n",
    "print(\"Dictionary before conversion is : \" + str(dic1)) \n",
    "\n",
    "- Dictionary after conversion are & notice lost keys \n",
    "\n",
    "print(\"Dictionary after conversion is : \" + str(set(dic1)))\n",
    "\n",
    "\n",
    "--> Output\n",
    "\n",
    "Dictionary before conversion is : {4: 'geeks', 1: 'for', 3: 'geeks'}\n",
    "\n",
    "Dictionary after conversion is : {1, 3, 4}\n"
   ]
  },
  {
   "cell_type": "markdown",
   "metadata": {},
   "source": [
    "# LeetCode"
   ]
  },
  {
   "cell_type": "code",
   "execution_count": null,
   "metadata": {},
   "outputs": [],
   "source": [
    "class Solution:\n",
    "    def repeatedCharacter(self, s: str) -> str:\n",
    "        seen = set()\n",
    "        for c in s:\n",
    "            if c in seen:\n",
    "                return c\n",
    "            seen.add(c)\n",
    "\n",
    "        return \" \""
   ]
  }
 ],
 "metadata": {
  "kernelspec": {
   "display_name": "Python 3",
   "language": "python",
   "name": "python3"
  },
  "language_info": {
   "codemirror_mode": {
    "name": "ipython",
    "version": 3
   },
   "file_extension": ".py",
   "mimetype": "text/x-python",
   "name": "python",
   "nbconvert_exporter": "python",
   "pygments_lexer": "ipython3",
   "version": "3.12.2"
  }
 },
 "nbformat": 4,
 "nbformat_minor": 2
}
