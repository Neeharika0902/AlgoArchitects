{
 "cells": [
  {
   "cell_type": "markdown",
   "metadata": {},
   "source": [
    "# Check if the Sentence Is Pangram\n",
    "\n",
    "A pangram is a sentence where every letter of the English alphabet appears at least once.\n",
    "\n",
    "Given a string sentence containing only lowercase English letters, return true if sentence is a pangram, or false otherwise.\n",
    "\n",
    "\n",
    "Example 1: --------------\n",
    "\n",
    "Input: sentence = \"thequickbrownfoxjumpsoverthelazydog\"\n",
    "\n",
    "Output: true\n",
    "\n",
    "Explanation: sentence contains at least one of every letter of the English alphabet.\n",
    "\n",
    "\n",
    "Example 2: --------------\n",
    "\n",
    "Input: sentence = \"leetcode\"\n",
    "\n",
    "Output: false\n",
    " \n",
    "\n",
    "Constraints: --------------\n",
    "\n",
    "1 <= sentence.length <= 1000\n",
    "\n",
    "sentence consists of lowercase English letters.\n",
    "\n",
    " \n",
    "\n"
   ]
  },
  {
   "cell_type": "code",
   "execution_count": 6,
   "metadata": {},
   "outputs": [],
   "source": [
    "def pangram(sentence) -> bool :\n",
    "    alphabets = set(sentence)\n",
    "\n",
    "    if len(alphabets) == 26:\n",
    "        return True\n",
    "        \n",
    "    else:\n",
    "        return False \n",
    "       \n"
   ]
  },
  {
   "cell_type": "code",
   "execution_count": 8,
   "metadata": {},
   "outputs": [
    {
     "data": {
      "text/plain": [
       "True"
      ]
     },
     "execution_count": 8,
     "metadata": {},
     "output_type": "execute_result"
    }
   ],
   "source": [
    "pangram('thequickbrownfoxjumpsoverthelazydog')"
   ]
  },
  {
   "cell_type": "markdown",
   "metadata": {},
   "source": [
    "# Set()\n",
    "- set() always stores unique/distict values "
   ]
  },
  {
   "cell_type": "markdown",
   "metadata": {},
   "source": []
  }
 ],
 "metadata": {
  "kernelspec": {
   "display_name": "Python 3",
   "language": "python",
   "name": "python3"
  },
  "language_info": {
   "codemirror_mode": {
    "name": "ipython",
    "version": 3
   },
   "file_extension": ".py",
   "mimetype": "text/x-python",
   "name": "python",
   "nbconvert_exporter": "python",
   "pygments_lexer": "ipython3",
   "version": "3.12.2"
  }
 },
 "nbformat": 4,
 "nbformat_minor": 2
}
